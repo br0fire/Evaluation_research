{
 "cells": [
  {
   "cell_type": "code",
   "execution_count": 1,
   "metadata": {},
   "outputs": [],
   "source": [
    "import warnings\n",
    "warnings.filterwarnings('ignore')\n",
    "import t2v_metrics"
   ]
  },
  {
   "cell_type": "code",
   "execution_count": 2,
   "metadata": {},
   "outputs": [
    {
     "data": {
      "text/plain": [
       "''"
      ]
     },
     "execution_count": 2,
     "metadata": {},
     "output_type": "execute_result"
    }
   ],
   "source": [
    "t2v_metrics.constants.HF_CACHE_DIR"
   ]
  },
  {
   "cell_type": "code",
   "execution_count": 3,
   "metadata": {},
   "outputs": [],
   "source": [
    "\n",
    "#clip_flant5_score = t2v_metrics.VQAScore(model='clip-flant5-xl')"
   ]
  },
  {
   "cell_type": "code",
   "execution_count": 33,
   "metadata": {},
   "outputs": [],
   "source": [
    "image = \"kek.jpeg\" # an image path in string format\n",
    "text = \"image\"\n",
    "score = clip_flant5_score(images=[image], texts=[text])"
   ]
  },
  {
   "cell_type": "code",
   "execution_count": 5,
   "metadata": {},
   "outputs": [
    {
     "name": "stdout",
     "output_type": "stream",
     "text": [
      "VQAScore models:\n"
     ]
    },
    {
     "data": {
      "text/plain": [
       "['clip-flant5-xxl',\n",
       " 'clip-flant5-xl',\n",
       " 'clip-flant5-xxl-no-system',\n",
       " 'clip-flant5-xxl-no-system-no-user',\n",
       " 'llava-v1.5-13b',\n",
       " 'llava-v1.5-7b',\n",
       " 'sharegpt4v-7b',\n",
       " 'sharegpt4v-13b',\n",
       " 'llava-v1.6-13b',\n",
       " 'instructblip-flant5-xxl',\n",
       " 'instructblip-flant5-xl',\n",
       " 'gpt-4-turbo',\n",
       " 'gpt-4o']"
      ]
     },
     "execution_count": 5,
     "metadata": {},
     "output_type": "execute_result"
    }
   ],
   "source": [
    "print(\"VQAScore models:\")\n",
    "t2v_metrics.list_all_vqascore_models()\n",
    "\n",
    "# print(\"ITMScore models:\")\n",
    "# t2v_metrics.list_all_itmscore_models()\n",
    "\n",
    "# print(\"CLIPScore models:\")\n",
    "# t2v_metrics.list_all_clipscore_models()"
   ]
  },
  {
   "cell_type": "code",
   "execution_count": null,
   "metadata": {},
   "outputs": [],
   "source": []
  }
 ],
 "metadata": {
  "kernelspec": {
   "display_name": "Python 3 (ipykernel)",
   "language": "python",
   "name": "python3"
  },
  "language_info": {
   "codemirror_mode": {
    "name": "ipython",
    "version": 3
   },
   "file_extension": ".py",
   "mimetype": "text/x-python",
   "name": "python",
   "nbconvert_exporter": "python",
   "pygments_lexer": "ipython3",
   "version": "3.10.16"
  }
 },
 "nbformat": 4,
 "nbformat_minor": 4
}
